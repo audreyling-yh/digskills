{
 "cells": [
  {
   "cell_type": "code",
   "execution_count": 1,
   "id": "ab95699b",
   "metadata": {},
   "outputs": [],
   "source": [
    "import os\n",
    "import pandas as pd\n",
    "import seaborn as sns\n",
    "import matplotlib.pyplot as plt\n",
    "import itertools"
   ]
  },
  {
   "cell_type": "code",
   "execution_count": null,
   "id": "ea01ef49",
   "metadata": {},
   "outputs": [],
   "source": [
    "df=pd.read_csv('img/data/avg_skills_by_subtrack_ssoc4d_year.csv')"
   ]
  },
  {
   "cell_type": "code",
   "execution_count": null,
   "id": "3d5d9408",
   "metadata": {},
   "outputs": [],
   "source": [
    "# delta\n",
    "temp=df[df['year'].isin([2018,2021])]\n",
    "temp.sort_values(by=['ssoc4d','subtrack','year'],inplace=True)\n",
    "temp['delta']=temp[['avg_skills_required_per_subtrack']].diff() # change in avg from 2018 to 2021 (negative means decrease in avg)\n",
    "temp=temp[temp['year']=='2021']\n",
    "temp"
   ]
  },
  {
   "cell_type": "code",
   "execution_count": null,
   "id": "ba58e1d7",
   "metadata": {},
   "outputs": [],
   "source": [
    "print(temp.groupby(['subtrack'])['delta'].mean().sort_values()) "
   ]
  }
 ],
 "metadata": {
  "kernelspec": {
   "display_name": "Python 3",
   "language": "python",
   "name": "python3"
  },
  "language_info": {
   "codemirror_mode": {
    "name": "ipython",
    "version": 3
   },
   "file_extension": ".py",
   "mimetype": "text/x-python",
   "name": "python",
   "nbconvert_exporter": "python",
   "pygments_lexer": "ipython3",
   "version": "3.8.10"
  }
 },
 "nbformat": 4,
 "nbformat_minor": 5
}
