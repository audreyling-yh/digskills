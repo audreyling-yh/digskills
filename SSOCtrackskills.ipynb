{
 "cells": [
  {
   "cell_type": "code",
   "execution_count": 10,
   "id": "5e184577",
   "metadata": {},
   "outputs": [],
   "source": [
    "import os\n",
    "import pandas as pd\n",
    "import seaborn as sns\n",
    "import matplotlib.pyplot as plt\n",
    "import itertools"
   ]
  },
  {
   "cell_type": "code",
   "execution_count": 21,
   "id": "f76cc725",
   "metadata": {},
   "outputs": [],
   "source": [
    "df=pd.read_csv('img/data/avg_skills_by_track_ssoc4d_year.csv')"
   ]
  },
  {
   "cell_type": "code",
   "execution_count": 22,
   "id": "78785a0c",
   "metadata": {},
   "outputs": [
    {
     "data": {
      "text/plain": [
       "Index(['ssoc4d', 'year', 'track', 'avg_skills_required_per_track'], dtype='object')"
      ]
     },
     "execution_count": 22,
     "metadata": {},
     "output_type": "execute_result"
    }
   ],
   "source": [
    "df.columns"
   ]
  },
  {
   "cell_type": "code",
   "execution_count": 23,
   "id": "58b55876",
   "metadata": {},
   "outputs": [],
   "source": [
    "df['ssoc1d']=df['ssoc4d'].apply(lambda x: str(x)[0])\n",
    "df.sort_values(by=['track','year'],ascending=True,inplace=True)\n",
    "df['year']=df['year'].apply(str)"
   ]
  },
  {
   "cell_type": "code",
   "execution_count": 24,
   "id": "c614878f",
   "metadata": {},
   "outputs": [],
   "source": [
    "df1=df[df['ssoc1d']=='1']\n",
    "df2=df[df['ssoc1d']=='2']\n",
    "df3=df[df['ssoc1d']=='3']"
   ]
  },
  {
   "cell_type": "code",
   "execution_count": 25,
   "id": "103ea255",
   "metadata": {},
   "outputs": [],
   "source": [
    "dflist=[df1,df2,df3]\n",
    "for idx, df in enumerate(dflist):\n",
    "\n",
    "    sns.set_style('whitegrid')\n",
    "\n",
    "    fig, axs = plt.subplots(1, 5,figsize=(17,7))\n",
    "    ssoclist=df['ssoc4d'].unique().tolist()\n",
    "    subtracks=df['track'].unique().tolist()\n",
    "\n",
    "    g1=sns.lineplot(data=df[df['ssoc4d']==ssoclist[0]], x='year', y='avg_skills_required_per_track', hue='track', palette='Set2',ax=axs[0])\n",
    "    g2=sns.lineplot(data=df[df['ssoc4d']==ssoclist[1]], x='year', y='avg_skills_required_per_track', hue='track', palette='Set2',ax=axs[1])\n",
    "    g3=sns.lineplot(data=df[df['ssoc4d']==ssoclist[2]], x='year', y='avg_skills_required_per_track', hue='track', palette='Set2',ax=axs[2])\n",
    "    g4=sns.lineplot(data=df[df['ssoc4d']==ssoclist[3]], x='year', y='avg_skills_required_per_track', hue='track', palette='Set2',ax=axs[3])\n",
    "    g5=sns.lineplot(data=df[df['ssoc4d']==ssoclist[4]], x='year', y='avg_skills_required_per_track', hue='track', palette='Set2',ax=axs[4])\n",
    "\n",
    "    for i,ssoc in enumerate(ssoclist):\n",
    "        axs[i].set_title('SSOC4D '+str(ssoclist[i]))\n",
    "        axs[i].legend(title='Track',loc='upper center', bbox_to_anchor=(0.5, -0.1))\n",
    "\n",
    "        sns.despine(top=True, right=True,left=True)\n",
    "\n",
    "        if i==2:\n",
    "            axs[i].set_xlabel(\"Year\")\n",
    "        else:\n",
    "            axs[i].set_xlabel(\"\")\n",
    "\n",
    "        if i==0:\n",
    "            axs[i].set_ylabel(\"Average number of skills required per job posting\")\n",
    "        else:\n",
    "            axs[i].set_ylabel('')\n",
    "\n",
    "    fig.suptitle('Average number of digital skills within each main track required per job posting in SSOC Group {}'.format(str(idx+1)))\n",
    "\n",
    "    plt.tight_layout()\n",
    "    plt.savefig('img/top_ssoc{}_track_skill_avg_by_year.png'.format(str(idx+1)))\n",
    "    plt.close()\n"
   ]
  },
  {
   "cell_type": "code",
   "execution_count": null,
   "id": "5a5ee542",
   "metadata": {},
   "outputs": [],
   "source": []
  }
 ],
 "metadata": {
  "kernelspec": {
   "display_name": "Python 3",
   "language": "python",
   "name": "python3"
  },
  "language_info": {
   "codemirror_mode": {
    "name": "ipython",
    "version": 3
   },
   "file_extension": ".py",
   "mimetype": "text/x-python",
   "name": "python",
   "nbconvert_exporter": "python",
   "pygments_lexer": "ipython3",
   "version": "3.8.10"
  }
 },
 "nbformat": 4,
 "nbformat_minor": 5
}
